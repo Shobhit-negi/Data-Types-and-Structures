{
  "nbformat": 4,
  "nbformat_minor": 0,
  "metadata": {
    "colab": {
      "provenance": []
    },
    "kernelspec": {
      "name": "python3",
      "display_name": "Python 3"
    },
    "language_info": {
      "name": "python"
    }
  },
  "cells": [
    {
      "cell_type": "markdown",
      "source": [
        "#Data Types and Structures Questions"
      ],
      "metadata": {
        "id": "fL08vt_VxW_Z"
      }
    },
    {
      "cell_type": "code",
      "source": [],
      "metadata": {
        "id": "1HosAsjpxTkD"
      },
      "execution_count": null,
      "outputs": []
    },
    {
      "cell_type": "markdown",
      "source": [
        "Q1. What are data structures, and why are they important?\n",
        "- Data structures are ways to organize and store data. They help keep information neat and make tasks like searching or sorting easier.\n",
        "\n",
        "\n",
        "Q2. Explain the difference between mutable and immutable data types with examples?\n",
        "\n",
        "- Mutable data can be changed (like lists). Immutable data cannot be changed (like tuples or strings).\n",
        "\n",
        "\n",
        "Q3. What are the main differences between lists and tuples in Python?\n",
        "\n",
        "- Lists can be changed; tuples cannot. Lists use [], while tuples use (). Tuples are used where we do not want to change the element in the data structure. eg: Employee ID in an organization.\n",
        "\n",
        "\n",
        "Q4. Describe how dictionaries store data?\n",
        "-  Dictionaries store data in key-value pairs like {\"name\": \"Alice\", \"age\": 25}. Think of them as labeled boxes!\n",
        "\n",
        "Q5. Why might you use a set instead of a list in Python?\n",
        "- Sets automatically remove duplicates and are faster for checking whether an item exists.\n",
        "\n",
        "Q6. What is a string in Python, and how is it different from a list?\n",
        "- A string is text (\"hello\"), while a list is a collection of items ([\"h\", \"e\", \"l\", \"l\", \"o\"]). Lists can be changed; strings cannot. Additionally list can have any character be it a string or numbers.\n",
        "\n",
        "\n",
        "Q7. How do tuples ensure data integrity in Python?\n",
        "- Since tuples cannot be changed (immutable), they prevent accidental modifications.\n",
        "\n",
        "\n",
        "Q8. What is a hash table, and how does it relate to dictionaries in Python?\n",
        "- Hash table quickly finds the data using unique keys similar to dictioary.\n",
        "\n",
        "Q9. Can lists contain different data types in Python?\n",
        "- Yes. A list can have numbers, text, and even other lists.\n",
        "\n",
        "Q10. Explain why strings are immutable in Python?\n",
        "- To avoid unexpected changes and make programs faster.\n",
        "\n",
        "\n",
        "Q11. What advantages do dictionaries offer over lists for certain tasks?\n",
        "- Dictionaries helpa to find information quickly using keys rather than searching through a list.\n",
        "\n",
        "Q12. Describe a scenario where using a tuple would be preferable over a list?\n",
        "- The best scenario would be storing an organization's data. Wherein, the employee IDs, employees date of birth are the one's which we do not want to change.\n",
        "\n",
        "Q13. How do sets handle duplicate values in Python?\n",
        "- Sets remove duplicates automatically.\n",
        "\n",
        "Q14. ow does the “in” keyword work differently for lists and dictionaries?\n",
        "- In lists, it checks if an item is present (2 in [1, 2, 3]). In dictionaries, it checks for keys (\"name\" in {\"name\": \"Alice\", \"age\": 30}).\n",
        "\n",
        "Q15. Can you modify the elements of a tuple? Explain why or why not?\n",
        "- No, because tuples are immutable.\n",
        "\n",
        "Q16. What is a nested dictionary, and give an example of its use case?\n",
        "- A dictionary inside another dictionary. Example:\n",
        "{\"student\": {\"name\": \"Bob\", \"age\": 20}}. It's useful for storing related data.\n",
        "\n",
        "\n",
        "Q17. Describe the time complexity of accessing elements in a dictionary?\n",
        "- Like a dictionary in real world, where we want to look up the meaning of a word. If it's a well-organized dictionary (sorted alphabetically), we can quickly jump to the section and find your word pretty fast.\n",
        "\n",
        "- Similarly in python, a dictionary is a kind of smart list where we store information using a \"key\" (like a name or word), and we can get the \"value\" (the meaning or data) just by asking for the key.\n",
        "\n",
        "- The time complexity of accessing an item in a dictionary is typically O(1) — that means it takes constant time, no matter how big the dictionary is.\n",
        "\n",
        "\n",
        "Q18. In what situations are lists preferred over dictionaries?\n",
        "- When order matters or when we need a simple collection of items.\n",
        "\n",
        "Q19. Why are dictionaries considered unordered, and how does that affect data retrieval?\n",
        "- They store data based on keys, not positions.\n",
        "\n",
        "Q20. Explain the difference between a list and a dictionary in terms of data retrieval?\n",
        "- Lists retrieve items by index (list[0]), dictionaries use keys (dict[\"name\"]).\n"
      ],
      "metadata": {
        "id": "0tBuraeIxnyb"
      }
    },
    {
      "cell_type": "markdown",
      "source": [
        "#Practical Questions\n"
      ],
      "metadata": {
        "id": "CBXdCEeVzEMx"
      }
    },
    {
      "cell_type": "code",
      "source": [
        "#Q1. Write a code to create a string with your name and print it?\n",
        "\n",
        "name = \"Shobhit\"\n",
        "print(name)"
      ],
      "metadata": {
        "colab": {
          "base_uri": "https://localhost:8080/"
        },
        "id": "0Fa0Oni53bE6",
        "outputId": "323b15e7-df90-4100-c046-ed61956d279c"
      },
      "execution_count": 1,
      "outputs": [
        {
          "output_type": "stream",
          "name": "stdout",
          "text": [
            "Shobhit\n"
          ]
        }
      ]
    },
    {
      "cell_type": "code",
      "source": [
        "#Q2. Write a code to find the length of the string \"Hello World\"?\n",
        "print(len(\"Hello World\"))"
      ],
      "metadata": {
        "colab": {
          "base_uri": "https://localhost:8080/"
        },
        "id": "3I13DRNVxUDB",
        "outputId": "991818e3-cf33-4016-cecb-f15906d5ada2"
      },
      "execution_count": 2,
      "outputs": [
        {
          "output_type": "stream",
          "name": "stdout",
          "text": [
            "11\n"
          ]
        }
      ]
    },
    {
      "cell_type": "code",
      "source": [
        "#Q3. Write a code to slice the first 3 characters from the string \"Python Programming\"?\n",
        "a=\"Python Programming\"\n",
        "print(a[:3])"
      ],
      "metadata": {
        "colab": {
          "base_uri": "https://localhost:8080/"
        },
        "id": "_XkW9Ku53sL4",
        "outputId": "78dd196c-ef7c-424d-e8c1-d2e0807cc956"
      },
      "execution_count": 3,
      "outputs": [
        {
          "output_type": "stream",
          "name": "stdout",
          "text": [
            "Pyt\n"
          ]
        }
      ]
    },
    {
      "cell_type": "code",
      "source": [
        "#Q4. Write a code to convert the string \"hello\" to uppercase?\n",
        "b=\"hello\"\n",
        "print(b.upper())"
      ],
      "metadata": {
        "colab": {
          "base_uri": "https://localhost:8080/"
        },
        "id": "L3EJsEa_xUF4",
        "outputId": "06e9e39e-7478-434d-c8cb-71aa4725a377"
      },
      "execution_count": 6,
      "outputs": [
        {
          "output_type": "stream",
          "name": "stdout",
          "text": [
            "HELLO\n"
          ]
        }
      ]
    },
    {
      "cell_type": "code",
      "source": [
        "#Q5. Write a code to replace the word \"apple\" with \"orange\" in the string \"I like apple\"?\n",
        "print(\"I like apple\".replace(\"apple\", \"orange\"))"
      ],
      "metadata": {
        "colab": {
          "base_uri": "https://localhost:8080/"
        },
        "id": "ok2cSqU94X7j",
        "outputId": "ac5d3b5f-1cc3-4afd-ad8b-dd3b1d4afcdf"
      },
      "execution_count": 9,
      "outputs": [
        {
          "output_type": "stream",
          "name": "stdout",
          "text": [
            "I like orange\n"
          ]
        }
      ]
    },
    {
      "cell_type": "code",
      "source": [
        "#Q6.Write a code to create a list with numbers 1 to 5 and print it?\n",
        "numbers = [1, 2, 3, 4, 5]\n",
        "print(numbers)"
      ],
      "metadata": {
        "colab": {
          "base_uri": "https://localhost:8080/"
        },
        "id": "i03bEboY4xg3",
        "outputId": "361e8613-ad16-4ee0-d68b-92d129ba4b86"
      },
      "execution_count": 10,
      "outputs": [
        {
          "output_type": "stream",
          "name": "stdout",
          "text": [
            "[1, 2, 3, 4, 5]\n"
          ]
        }
      ]
    },
    {
      "cell_type": "code",
      "source": [
        "#Q7. Write a code to append the number 10 to the list [1, 2, 3, 4]?\n",
        "append_numbers=[1,2,3,4]\n",
        "append_numbers.append(10)\n",
        "print(append_numbers)"
      ],
      "metadata": {
        "colab": {
          "base_uri": "https://localhost:8080/"
        },
        "id": "za97mSxI48Vy",
        "outputId": "c66c9aa5-6f11-43b5-ff4c-62d4ecf1d3fb"
      },
      "execution_count": 13,
      "outputs": [
        {
          "output_type": "stream",
          "name": "stdout",
          "text": [
            "[1, 2, 3, 4, 10]\n"
          ]
        }
      ]
    },
    {
      "cell_type": "code",
      "source": [
        "#Q8. Write a code to remove the number 3 from the list [1, 2, 3, 4, 5].\n",
        "numbers1=[1,2,3,4,5]\n",
        "numbers1.remove(3)\n",
        "print(numbers1)"
      ],
      "metadata": {
        "colab": {
          "base_uri": "https://localhost:8080/"
        },
        "id": "eafdYMNg5180",
        "outputId": "3062f2f6-ceda-4f9c-e5b1-9ac9eccd0927"
      },
      "execution_count": 14,
      "outputs": [
        {
          "output_type": "stream",
          "name": "stdout",
          "text": [
            "[1, 2, 4, 5]\n"
          ]
        }
      ]
    },
    {
      "cell_type": "code",
      "source": [
        "#Q9. Write a code to access the second element in the list ['a', 'b', 'c', 'd']?\n",
        "letters = ['a', 'b', 'c', 'd']\n",
        "print(letters[1])"
      ],
      "metadata": {
        "colab": {
          "base_uri": "https://localhost:8080/"
        },
        "id": "NpghybO_6Fq0",
        "outputId": "14b73139-fb15-4123-95a8-9d1693c7f2a8"
      },
      "execution_count": 15,
      "outputs": [
        {
          "output_type": "stream",
          "name": "stdout",
          "text": [
            "b\n"
          ]
        }
      ]
    },
    {
      "cell_type": "code",
      "source": [
        "#Q10. Write a code to reverse the list [10, 20, 30, 40, 50].\n",
        "reverse_list = [10, 20, 30, 40, 50][::-1]\n",
        "print(reverse_list)"
      ],
      "metadata": {
        "colab": {
          "base_uri": "https://localhost:8080/"
        },
        "id": "Psx4EGFg6R_9",
        "outputId": "364d705d-3f47-44e6-ad4a-902bc741fe9f"
      },
      "execution_count": 16,
      "outputs": [
        {
          "output_type": "stream",
          "name": "stdout",
          "text": [
            "[50, 40, 30, 20, 10]\n"
          ]
        }
      ]
    },
    {
      "cell_type": "code",
      "source": [
        "#Q11. Write a code to create a tuple with the elements 100, 200, 300 and print it.\n",
        "fruits = (100, 200, 300)\n",
        "print(fruits)"
      ],
      "metadata": {
        "colab": {
          "base_uri": "https://localhost:8080/"
        },
        "id": "WvudAnim68Hq",
        "outputId": "de193dec-b655-483e-b095-7bd5fe55761d"
      },
      "execution_count": 17,
      "outputs": [
        {
          "output_type": "stream",
          "name": "stdout",
          "text": [
            "(100, 200, 300)\n"
          ]
        }
      ]
    },
    {
      "cell_type": "code",
      "source": [
        "#Q12. Write a code to access the second-to-last element of the tuple ('red', 'green', 'blue', 'yellow').\n",
        "colors = ('red', 'green', 'blue', 'yellow')\n",
        "print(colors[-2])"
      ],
      "metadata": {
        "colab": {
          "base_uri": "https://localhost:8080/"
        },
        "id": "S4om8kqG7lXl",
        "outputId": "3a295d2b-3880-4a14-95f0-f9d535fab048"
      },
      "execution_count": 18,
      "outputs": [
        {
          "output_type": "stream",
          "name": "stdout",
          "text": [
            "blue\n"
          ]
        }
      ]
    },
    {
      "cell_type": "code",
      "source": [
        "#Q13. Write a code to find the minimum number in the tuple (10, 20, 5, 15).\n",
        "numbers_tuple = (10, 20, 5, 15)\n",
        "print(min(numbers_tuple))"
      ],
      "metadata": {
        "colab": {
          "base_uri": "https://localhost:8080/"
        },
        "id": "ysh8BtpF7rkW",
        "outputId": "3a532050-1116-4d26-d543-74ef5bcd2f94"
      },
      "execution_count": 19,
      "outputs": [
        {
          "output_type": "stream",
          "name": "stdout",
          "text": [
            "5\n"
          ]
        }
      ]
    },
    {
      "cell_type": "code",
      "source": [
        "#Q14. Write a code to find the index of the element \"cat\" in the tuple ('dog', 'cat', 'rabbit').\n",
        "animals = ('dog', 'cat', 'rabbit')\n",
        "print(animals.index(\"cat\"))"
      ],
      "metadata": {
        "colab": {
          "base_uri": "https://localhost:8080/"
        },
        "id": "CQdsp6z37wjk",
        "outputId": "c3de9384-cc99-4cd6-b612-0e3ccf75591f"
      },
      "execution_count": 23,
      "outputs": [
        {
          "output_type": "stream",
          "name": "stdout",
          "text": [
            "1\n"
          ]
        }
      ]
    },
    {
      "cell_type": "code",
      "source": [
        "#Q15. Write a code to create a tuple containing three different fruits and check if \"kiwi\" is in it.\n",
        "fruits1 = ('apple', 'banana', 'cherry')\n",
        "print(\"kiwi\" in fruits1)"
      ],
      "metadata": {
        "colab": {
          "base_uri": "https://localhost:8080/"
        },
        "id": "fWYlEggMxUIH",
        "outputId": "049b7c07-6159-4714-e45d-ee68afafb9b2"
      },
      "execution_count": 24,
      "outputs": [
        {
          "output_type": "stream",
          "name": "stdout",
          "text": [
            "False\n"
          ]
        }
      ]
    },
    {
      "cell_type": "code",
      "source": [
        "#Q16. Write a code to create a set with the elements 'a', 'b', 'c' and print it.\n",
        "my_set = {'a', 'b', 'c'}\n",
        "print(my_set)"
      ],
      "metadata": {
        "colab": {
          "base_uri": "https://localhost:8080/"
        },
        "id": "skQz4nfN7_mU",
        "outputId": "8b7345be-a87d-4c9b-89e3-8861f84b21e4"
      },
      "execution_count": 25,
      "outputs": [
        {
          "output_type": "stream",
          "name": "stdout",
          "text": [
            "{'a', 'c', 'b'}\n"
          ]
        }
      ]
    },
    {
      "cell_type": "code",
      "source": [
        "#Q17. Write a code to clear all elements from the set {1, 2, 3, 4, 5}.\n",
        "my_set1={1,2,3,4,5}\n",
        "my_set1.clear()\n",
        "print(my_set1)"
      ],
      "metadata": {
        "colab": {
          "base_uri": "https://localhost:8080/"
        },
        "id": "_MBG56YY7_jg",
        "outputId": "4ee6332e-d28f-4c9b-dbd6-4e737fb0257c"
      },
      "execution_count": 26,
      "outputs": [
        {
          "output_type": "stream",
          "name": "stdout",
          "text": [
            "set()\n"
          ]
        }
      ]
    },
    {
      "cell_type": "code",
      "source": [
        "#Q18. Write a code to remove the element 4 from the set {1, 2, 3, 4}.\n",
        "numbers_set1 = {1, 2, 3, 4}\n",
        "numbers_set1.remove(4)\n",
        "print(numbers_set1)"
      ],
      "metadata": {
        "colab": {
          "base_uri": "https://localhost:8080/"
        },
        "id": "wrL29lkD7_fs",
        "outputId": "0add8f9a-c99f-4ff1-8ea2-0627008a745a"
      },
      "execution_count": 27,
      "outputs": [
        {
          "output_type": "stream",
          "name": "stdout",
          "text": [
            "{1, 2, 3}\n"
          ]
        }
      ]
    },
    {
      "cell_type": "code",
      "source": [
        "#Q19. Write a code to find the union of two sets {1, 2, 3} and {3, 4, 5}.\n",
        "set1 = {1, 2, 3}\n",
        "set2 = {3, 4, 5}\n",
        "print(set1.union(set2))"
      ],
      "metadata": {
        "colab": {
          "base_uri": "https://localhost:8080/"
        },
        "id": "IT2pybU27_dA",
        "outputId": "3c01c7b8-bc57-4c26-aa3a-012fd343321b"
      },
      "execution_count": 28,
      "outputs": [
        {
          "output_type": "stream",
          "name": "stdout",
          "text": [
            "{1, 2, 3, 4, 5}\n"
          ]
        }
      ]
    },
    {
      "cell_type": "code",
      "source": [
        "#Q20. Write a code to find the intersection of two sets {1, 2, 3} and {2, 3, 4}.\n",
        "\n",
        "print(set1.intersection(set2))   #as the set are same as above question, hence didn't create a new variable.\n"
      ],
      "metadata": {
        "colab": {
          "base_uri": "https://localhost:8080/"
        },
        "id": "R8WNHJNV7_Zz",
        "outputId": "fe4da964-5720-4a3c-a1c4-bc2833888970"
      },
      "execution_count": 30,
      "outputs": [
        {
          "output_type": "stream",
          "name": "stdout",
          "text": [
            "{3}\n"
          ]
        }
      ]
    },
    {
      "cell_type": "code",
      "source": [
        "#Q21. Write a code to create a dictionary with the keys \"name\", \"age\", and \"city\", and print it.\n",
        "person = {\"name\": \"Alice\", \"age\": 30, \"city\": \"Paris\"}\n",
        "print(person)"
      ],
      "metadata": {
        "colab": {
          "base_uri": "https://localhost:8080/"
        },
        "id": "CXMIBUI37_WJ",
        "outputId": "978d13d2-5cce-44e9-f75b-822168347fe3"
      },
      "execution_count": 31,
      "outputs": [
        {
          "output_type": "stream",
          "name": "stdout",
          "text": [
            "{'name': 'Alice', 'age': 30, 'city': 'Paris'}\n"
          ]
        }
      ]
    },
    {
      "cell_type": "code",
      "source": [
        "#Q22. Write a code to add a new key-value pair \"country\": \"USA\" to the dictionary {'name': 'John', 'age': 25}.\n",
        "person1={\"name\": \"John\",\"age\":25}\n",
        "person1[\"country\"] = \"USA\"\n",
        "print(person1)\n"
      ],
      "metadata": {
        "colab": {
          "base_uri": "https://localhost:8080/"
        },
        "id": "CDxL_K7V7_TS",
        "outputId": "9251ee9c-9726-4719-9b31-c7ee44250049"
      },
      "execution_count": 35,
      "outputs": [
        {
          "output_type": "stream",
          "name": "stdout",
          "text": [
            "{'name': 'John', 'age': 25, 'country': 'USA'}\n"
          ]
        }
      ]
    },
    {
      "cell_type": "code",
      "source": [
        "#Q23. Write a code to access the value associated with the key \"name\" in the dictionary {'name': 'Alice', 'age': 30}.\n",
        "print(person[\"name\"])   #it took from Q21."
      ],
      "metadata": {
        "colab": {
          "base_uri": "https://localhost:8080/"
        },
        "id": "ZbPUF6ej7_JJ",
        "outputId": "baebb634-2b56-42e9-83bc-9f5170998636"
      },
      "execution_count": 33,
      "outputs": [
        {
          "output_type": "stream",
          "name": "stdout",
          "text": [
            "Alice\n"
          ]
        }
      ]
    },
    {
      "cell_type": "code",
      "source": [
        "#Q24. Write a code to remove the key \"age\" from the dictionary {'name': 'Bob', 'age': 22, 'city': 'New York'}.\n",
        "person2={\"name\": \"Bob\",\"age\":22,\"City\": \"New York\"}\n",
        "del person2[\"age\"]\n",
        "print(person2)"
      ],
      "metadata": {
        "colab": {
          "base_uri": "https://localhost:8080/"
        },
        "id": "iCblUx17xUKT",
        "outputId": "1f98136c-525d-452d-d78a-d7e014dd6222"
      },
      "execution_count": 37,
      "outputs": [
        {
          "output_type": "stream",
          "name": "stdout",
          "text": [
            "{'name': 'Bob', 'City': 'New York'}\n"
          ]
        }
      ]
    },
    {
      "cell_type": "code",
      "source": [
        "#Q25. Write a code to check if the key \"city\" exists in the dictionary {'name': 'Alice', 'city': 'Paris'}.\n",
        "person3=  {'name': 'Alice', 'city': 'Paris'}\n",
        "print(\"city\" in person3)"
      ],
      "metadata": {
        "colab": {
          "base_uri": "https://localhost:8080/"
        },
        "id": "yjMqRMTh-CMA",
        "outputId": "021a91d5-eca5-48ce-ee33-5d068114ba90"
      },
      "execution_count": 38,
      "outputs": [
        {
          "output_type": "stream",
          "name": "stdout",
          "text": [
            "True\n"
          ]
        }
      ]
    },
    {
      "cell_type": "code",
      "source": [
        "#Q26. Write a code to create a list, a tuple, and a dictionary, and print them all.\n",
        "print([1, 2, 3], (4, 5, 6), {\"a\": 1, \"b\": 2})"
      ],
      "metadata": {
        "colab": {
          "base_uri": "https://localhost:8080/"
        },
        "id": "jbkTi-dH-CJn",
        "outputId": "e5643ed8-a45e-4504-ea2c-514ece2b64c1"
      },
      "execution_count": 39,
      "outputs": [
        {
          "output_type": "stream",
          "name": "stdout",
          "text": [
            "[1, 2, 3] (4, 5, 6) {'a': 1, 'b': 2}\n"
          ]
        }
      ]
    },
    {
      "cell_type": "code",
      "source": [
        "#Q27. Write a code to create a list of 5 random numbers between 1 and 100, sort it in ascending order, and print the result.(replaced)\n",
        "import random\n",
        "random_list = sorted(random.sample(range(1, 100), 5))\n",
        "print(random_list)"
      ],
      "metadata": {
        "colab": {
          "base_uri": "https://localhost:8080/"
        },
        "id": "RsoYljAL-CHU",
        "outputId": "d03f609c-8f52-4b79-8e5a-0ba8e4dd9aa9"
      },
      "execution_count": 40,
      "outputs": [
        {
          "output_type": "stream",
          "name": "stdout",
          "text": [
            "[22, 35, 52, 80, 97]\n"
          ]
        }
      ]
    },
    {
      "cell_type": "code",
      "source": [
        "#Q28. Write a code to create a list with strings and print the element at the third index.\n",
        "strings_list = [\"apple\", \"banana\", \"cherry\", \"date\", \"elderberry\"]\n",
        "print(strings_list[3])"
      ],
      "metadata": {
        "colab": {
          "base_uri": "https://localhost:8080/"
        },
        "id": "N4fIGnEZ_JNC",
        "outputId": "271581f9-d432-49b5-cda1-c847d6b5e59c"
      },
      "execution_count": 41,
      "outputs": [
        {
          "output_type": "stream",
          "name": "stdout",
          "text": [
            "date\n"
          ]
        }
      ]
    },
    {
      "cell_type": "code",
      "source": [
        "#Q29. Write a code to combine two dictionaries into one and print the result.\n",
        "dict1 = {\"a\": 1, \"b\": 2}\n",
        "dict2 = {\"c\": 3, \"d\": 4}\n",
        "combined_dict = {**dict1, **dict2}\n",
        "print(combined_dict)"
      ],
      "metadata": {
        "colab": {
          "base_uri": "https://localhost:8080/"
        },
        "id": "aVCH16c3-CEx",
        "outputId": "b460ae66-4536-4987-c66f-b470fdab3786"
      },
      "execution_count": 42,
      "outputs": [
        {
          "output_type": "stream",
          "name": "stdout",
          "text": [
            "{'a': 1, 'b': 2, 'c': 3, 'd': 4}\n"
          ]
        }
      ]
    },
    {
      "cell_type": "code",
      "source": [
        "#30. Write a code to convert a list of strings into a set.\n",
        "string_list1 = [\"apple\", \"banana\", \"apple\"]\n",
        "print(set(string_list1))\n"
      ],
      "metadata": {
        "colab": {
          "base_uri": "https://localhost:8080/"
        },
        "id": "0Lt15_jN-CCE",
        "outputId": "64849bd5-91dc-4e2f-e8db-b47e41ffe9ce"
      },
      "execution_count": 43,
      "outputs": [
        {
          "output_type": "stream",
          "name": "stdout",
          "text": [
            "{'apple', 'banana'}\n"
          ]
        }
      ]
    },
    {
      "cell_type": "code",
      "source": [],
      "metadata": {
        "id": "5RJ5d0ue-B_d"
      },
      "execution_count": null,
      "outputs": []
    },
    {
      "cell_type": "code",
      "source": [],
      "metadata": {
        "id": "uW6dZal1-B80"
      },
      "execution_count": null,
      "outputs": []
    },
    {
      "cell_type": "code",
      "source": [],
      "metadata": {
        "id": "94h6oOoY-B6U"
      },
      "execution_count": null,
      "outputs": []
    },
    {
      "cell_type": "code",
      "source": [],
      "metadata": {
        "id": "uQesOIiC-B3l"
      },
      "execution_count": null,
      "outputs": []
    }
  ]
}